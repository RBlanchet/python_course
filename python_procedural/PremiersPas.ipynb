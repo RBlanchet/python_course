{
 "cells": [
  {
   "cell_type": "markdown",
   "metadata": {},
   "source": [
    "# Premiers pas dans la programmation avec python\n",
    "\n",
    "\n",
    "## Quelques notions générales (pas propres à Python)\n",
    "\n",
    "Dans n'importe quel langage de programmation, on distingue  \n",
    "<ul>\n",
    "<li> les <b>variables</b>: symbole utilisé pour stocker une valeur en mémoire\n",
    "<li> des <b>valeurs</b>: \"données\" attachées à des variables (il en existe de multiples formes)\n",
    "</ul>\n",
    "\n",
    "En d'autres termes, les variables \"portent\" les valeurs que l'on leur attribut. En python, on associe les valeurs aux variables à l'aide du symbole ="
   ]
  },
  {
   "cell_type": "code",
   "execution_count": null,
   "metadata": {
    "collapsed": false
   },
   "outputs": [],
   "source": [
    "a = 3\n",
    "print(a)"
   ]
  },
  {
   "cell_type": "markdown",
   "metadata": {},
   "source": [
    "On donne ainsi à <b>a </b> (variable) la valeur 3. Notez qu'une variable peut changer de valeur comme de chemise. Il suffit pour cela de la définir de nouveau:"
   ]
  },
  {
   "cell_type": "code",
   "execution_count": null,
   "metadata": {
    "collapsed": false
   },
   "outputs": [],
   "source": [
    "a = 4\n",
    "print(a)"
   ]
  },
  {
   "cell_type": "markdown",
   "metadata": {},
   "source": [
    "Pour des raisons presque logiques, l'interpréteur de votre script (ce qui l'exécute pour faire faire les calcul par votre CPU) est incapable de vous retourner les valeurs d'une variable non-définie. Normal, vous ne l'avez pas encore définie (c'est ce que vous retournera l'interpréteur: <code>name 'b' is not defined</code>)!"
   ]
  },
  {
   "cell_type": "code",
   "execution_count": null,
   "metadata": {
    "collapsed": false
   },
   "outputs": [],
   "source": [
    "print(b)"
   ]
  },
  {
   "cell_type": "markdown",
   "metadata": {},
   "source": [
    "Venons en aux valeurs, mainenant. Dans un langage <a href = \"https://fr.wikipedia.org/wiki/Typage_fort\">typé</a> comme python (et bien d'autre), chaque valeur possède un <b>type</b>. Nous citerions principalement i) les entiers (int pour \"integers\"), ii) les nombres réels (ou float pour \"flottant\") et iii) les chaînes de caractère (str pour \"string\") et les iv) booléens (valeurs Vrai/Faux: bool)"
   ]
  },
  {
   "cell_type": "code",
   "execution_count": null,
   "metadata": {
    "collapsed": true
   },
   "outputs": [],
   "source": [
    "a = 3\n",
    "b = 3.14\n",
    "c = \"trois\"\n",
    "d = True"
   ]
  },
  {
   "cell_type": "markdown",
   "metadata": {},
   "source": [
    "On peut à tout moment s'assurer du type d'une variable avec la fonction <b>type()</b>"
   ]
  },
  {
   "cell_type": "code",
   "execution_count": null,
   "metadata": {
    "collapsed": false
   },
   "outputs": [],
   "source": [
    "print(\"type de a: \",type(a))\n",
    "print(\"type de b: \",type(b))\n",
    "print(\"type de c: \",type(c))\n",
    "print(\"type de d: \",type(d))"
   ]
  },
  {
   "cell_type": "markdown",
   "metadata": {},
   "source": [
    "## Opérations \n",
    "Il est possible d'effectuer des opérations simples (notament mathématiques) sur des variables définies. Par chance, la syntaxe de python est très proches de celle de nos mathématiques \"humaines\"......."
   ]
  },
  {
   "cell_type": "code",
   "execution_count": null,
   "metadata": {
    "collapsed": true
   },
   "outputs": [],
   "source": [
    "a , b = 3, 4\n",
    "c = \"Supercalifragi\"\n",
    "d = \"listicexpialidocious\""
   ]
  },
  {
   "cell_type": "code",
   "execution_count": null,
   "metadata": {
    "collapsed": false
   },
   "outputs": [],
   "source": [
    "a - b, a+b, a*b"
   ]
  },
  {
   "cell_type": "markdown",
   "metadata": {},
   "source": [
    "...... avec toutefois quelques nuances propres à la logique de notre langage et le type de variables en question. En effet, + appliqué à des <b>str</b> ne correspond pas à une <b>somme arithmétique</b> mais à une <b>concatenation de chaines de caratères</b>"
   ]
  },
  {
   "cell_type": "code",
   "execution_count": null,
   "metadata": {
    "collapsed": false
   },
   "outputs": [],
   "source": [
    "c +d"
   ]
  },
  {
   "cell_type": "markdown",
   "metadata": {},
   "source": [
    "Il n'est, du coup, pas possible de faire: (du fait que ça n'a pas de sens)"
   ]
  },
  {
   "cell_type": "code",
   "execution_count": null,
   "metadata": {
    "collapsed": false
   },
   "outputs": [],
   "source": [
    "c-d"
   ]
  },
  {
   "cell_type": "markdown",
   "metadata": {},
   "source": [
    "## La notion de structure de donnée (tuples, listes et dictionnaires)\n",
    "\n",
    "Nous avons jusqu'à présent vu comment associer des valeurs à une variable. Mais nombreux sont les cas où nous avons besoin de \"stocker\" plusieurs valeurs au \"même endroit\" (i.e. dans la même variable). C'est ici que les <a href=\"https://fr.wikipedia.org/wiki/Structure_de_donn%C3%A9es\">structures de données</a> interviennent."
   ]
  },
  {
   "cell_type": "code",
   "execution_count": null,
   "metadata": {
    "collapsed": true
   },
   "outputs": [],
   "source": [
    "a = 2.5,4,3    # ces deux définitions sont totalement équivalentes\n",
    "b = (2,4,3)"
   ]
  },
  {
   "cell_type": "code",
   "execution_count": null,
   "metadata": {
    "collapsed": false
   },
   "outputs": [],
   "source": [
    "print(a)"
   ]
  },
  {
   "cell_type": "markdown",
   "metadata": {},
   "source": [
    "De même que l'on peut classer de la paperasse selon différentes logiques (ordre temporel, arboresence, etc), de même peut on structurer des valeurs d'après des structures plus ou moins complèxes. La plus simple, est de concevoir une simple collection, ce que nous venons de faire en définissant <b>b</b>"
   ]
  },
  {
   "cell_type": "code",
   "execution_count": null,
   "metadata": {
    "collapsed": false
   },
   "outputs": [],
   "source": [
    "print(type(b))"
   ]
  },
  {
   "cell_type": "markdown",
   "metadata": {},
   "source": [
    "b est un <a href=\"https://fr.wikipedia.org/wiki/N-uplet\">tuple</a>, une simple collection de valeurs organisées d'après leur ordre dans la définition. On peut ainsi \"extraire\" les membres de cette collection par leur position (<b>Attention</b>: on compte à partir de 0)"
   ]
  },
  {
   "cell_type": "code",
   "execution_count": null,
   "metadata": {
    "collapsed": false
   },
   "outputs": [],
   "source": [
    "b[0]"
   ]
  },
  {
   "cell_type": "markdown",
   "metadata": {},
   "source": [
    "Le problème des <b>tuples</b>, c'est qu'une fois la position d'une valeur fixée, il devient impossible de la changer à moins de définir de nouveau tout le tuple. Les <b>listes</b> offrent davantage de souplesse. En python, on défini une liste à l'aide des symboles []"
   ]
  },
  {
   "cell_type": "code",
   "execution_count": null,
   "metadata": {
    "collapsed": false
   },
   "outputs": [],
   "source": [
    "c = [1,6,7,4]\n",
    "\n",
    "print(type(c))\n",
    "print(c[1])"
   ]
  },
  {
   "cell_type": "markdown",
   "metadata": {},
   "source": [
    "et les différentes méthodes de cette objet permettront d'inverser l'ordre des éléments...."
   ]
  },
  {
   "cell_type": "code",
   "execution_count": null,
   "metadata": {
    "collapsed": false
   },
   "outputs": [],
   "source": [
    "c.reverse()\n",
    "c"
   ]
  },
  {
   "cell_type": "markdown",
   "metadata": {},
   "source": [
    ".... de mélanger ses éléments..... (<a href=\"https://www.tutorialspoint.com/python/number_shuffle.htm\"> lien</a>)"
   ]
  },
  {
   "cell_type": "code",
   "execution_count": null,
   "metadata": {
    "collapsed": false
   },
   "outputs": [],
   "source": [
    "random.shuffle(c)"
   ]
  },
  {
   "cell_type": "markdown",
   "metadata": {},
   "source": [
    "Oups, que s'est-il passé? Nous venons d'appeler une fonction random.shuffle alors que l'interpréteur python ne sait pas ce qu'est \"random\". C'est normal car shuffle est une fonction issue de random, qui est une <a href=\"https://fr.wikipedia.org/wiki/Biblioth%C3%A8que_logicielle\"> librairie</a> (i.e. une collection de fonctions courantes ou de routine dont l'importation permet de se dispenser d'avoir à les réécrire à chaque fois). En python, on importe une librairie avec la commande <b>import</b>"
   ]
  },
  {
   "cell_type": "code",
   "execution_count": null,
   "metadata": {
    "collapsed": false
   },
   "outputs": [],
   "source": [
    "import random\n",
    "random.shuffle(c)\n",
    "c"
   ]
  },
  {
   "cell_type": "markdown",
   "metadata": {},
   "source": [
    "Nous reviendrons à la question des librairies et leur rôle central dans le développement de programme spécialisés dans i) le calcul, ii) l'analyse de données, iii) le développement web , iv) les requêtes réseaux, etc etc\n",
    "\n",
    "La structuration par ordre, c'est bien gentil mais ça a ses limites (notamment lorsque l'on veut retrouver les données). Et si nous organisions nos valeurs à l'aide d'index ou de clefs . On obtient alors un dictionnaire (que l'on définit avec des {} en python)"
   ]
  },
  {
   "cell_type": "code",
   "execution_count": null,
   "metadata": {
    "collapsed": false
   },
   "outputs": [],
   "source": [
    "d = {\"un\": 3 , \"deux\": 2, \"trois\": 9, \"soleil!\": 10}\n",
    "type(d)"
   ]
  },
  {
   "cell_type": "code",
   "execution_count": null,
   "metadata": {
    "collapsed": false
   },
   "outputs": [],
   "source": [
    "d[\"trois\"]"
   ]
  },
  {
   "cell_type": "markdown",
   "metadata": {},
   "source": [
    "## Boucles et conditions\n",
    "\n",
    "### Les boucles: le moteur de nos scripts\n",
    "Maintenant que nous disposons de structure de données, voyons comment automatiser des opérations sur leurs éléments (principale raison pour laquelle nous codons). Nous allons pour cela utiliser des boucles <b>For</b> et des boucles <b>While</b>. Commençons par les boucles <b>For</b>"
   ]
  },
  {
   "cell_type": "code",
   "execution_count": null,
   "metadata": {
    "collapsed": false
   },
   "outputs": [],
   "source": [
    "A = [1, 3, 8, 5, 4]\n",
    "a = [7,4,8,4]\n",
    "\n",
    "for i in A:     # pour chaque i dans A\n",
    "    print(i**2) # imprime i au carré"
   ]
  },
  {
   "cell_type": "code",
   "execution_count": null,
   "metadata": {
    "collapsed": false
   },
   "outputs": [],
   "source": [
    "i"
   ]
  },
  {
   "cell_type": "markdown",
   "metadata": {},
   "source": [
    "Toute boucle a un <b>début</b> et une <b>fin</b> matérialisés de diverses manières selon les langage. En python, une boucle commence après : et s'étend sur toutes lignes <b>indentées</b> (aka. décallées par rapport au début de la ligne). Python est donc un <b>langage sensible à l'indentation</b>\n",
    "<code>\n",
    "boucle: \n",
    "  dans la boucle\n",
    "  dans la boucle\n",
    "  dans la boucle\n",
    "\n",
    "pas dans la boucle\n",
    "</code>\n",
    "\n",
    "Il pourrait être plus intéressant de stocker ces valeurs dans une autre liste (avec la méthode \"append\") pour nous en resservir plus tard."
   ]
  },
  {
   "cell_type": "code",
   "execution_count": null,
   "metadata": {
    "collapsed": false
   },
   "outputs": [],
   "source": [
    "A = [1, 3, 8, 5, 3]\n",
    "B = []  # on crée une liste vide\n",
    "\n",
    "for i in A:     # pour chaque i dans a\n",
    "    p = i**2      # calcul son carré\n",
    "    B.append(p)   # ajoute p à la liste B\n",
    "\n",
    "print (B)"
   ]
  },
  {
   "cell_type": "markdown",
   "metadata": {},
   "source": [
    "<b>While</b> répond à une logique différente. Au lieu d'itérer une opération pour tous les éléments d'une liste, <b>While</b> effectue une opération jusqu'à ce qu'une condition soit satisfaite"
   ]
  },
  {
   "cell_type": "code",
   "execution_count": null,
   "metadata": {
    "collapsed": false
   },
   "outputs": [],
   "source": [
    "B = []\n",
    "x=0\n",
    "while x < 50: # tant que x est inférieur à 50\n",
    "    B.append(x) # \n",
    "    x = x+3 # x prend alors la précédente valeur de x + 3 (on réalise ainsi une incrémentation)\n",
    "    #print(B)\n",
    "    \n",
    "print(B)"
   ]
  },
  {
   "cell_type": "code",
   "execution_count": null,
   "metadata": {
    "collapsed": false
   },
   "outputs": [],
   "source": [
    "B= []\n",
    "for i in range(50): \n",
    "    if i%3 == 0:\n",
    "        B.append(i)\n",
    "\n",
    "print(B)"
   ]
  },
  {
   "cell_type": "code",
   "execution_count": null,
   "metadata": {
    "collapsed": false
   },
   "outputs": [],
   "source": [
    "C =[x for x in range(50) if x%3==0]\n",
    "print(C)"
   ]
  },
  {
   "cell_type": "markdown",
   "metadata": {},
   "source": [
    "[Exercice] définissez par compréhension l'ensemble-produit (aka produit cartésien) des deux ensembles suivants."
   ]
  },
  {
   "cell_type": "code",
   "execution_count": null,
   "metadata": {
    "collapsed": false
   },
   "outputs": [],
   "source": [
    "A = [\"roi\",\"dame\",\"valet\",\"9\",\"8\",\"7\"]\n",
    "B = [\"pique\",\"coeur\",\"trefle\",\"carreau\"]\n",
    "\n",
    "# CODE À COMPLÉTER\n",
    "\n",
    "print(Cartesien)"
   ]
  },
  {
   "cell_type": "markdown",
   "metadata": {},
   "source": [
    "### Les conditions: le volant de nos script\n",
    "\n",
    "Nous avons vu que les boucles while reposent sur des conditions d'arrêt (ce sans quoi elles tourneraient sans fin).  Prenons, pour changer, des chaines de caractères pour illustrer le fonctionnement des conditions.  "
   ]
  },
  {
   "cell_type": "code",
   "execution_count": null,
   "metadata": {
    "collapsed": false
   },
   "outputs": [],
   "source": [
    "a = \"Alexandre\"\n",
    "b = \"Bethsabée\"\n",
    "c = \"Pierre\"\n",
    "\n",
    "print (bool(a == b))\n",
    "print (bool(len(a) == len(b)))"
   ]
  },
  {
   "cell_type": "code",
   "execution_count": null,
   "metadata": {
    "collapsed": false
   },
   "outputs": [],
   "source": [
    "a = \"Alexandre\"\n",
    "b = \"Bethsabée\"\n",
    "c = \"Pierre\"\n",
    "\n",
    "if len(b)<len(a):\n",
    "    print(b, \" est plus court que \", a)\n",
    "elif len(b)==len(a):\n",
    "    print(b, \" et de même longueur que \",a)"
   ]
  },
  {
   "cell_type": "code",
   "execution_count": null,
   "metadata": {
    "collapsed": false
   },
   "outputs": [],
   "source": [
    "L = [1,2,3,4,5,6,7,8,9]\n",
    "\n",
    "for n in L:\n",
    "    if (n%2!=0) and (n%3!=0): \n",
    "        print(n, \" n'est ni multiple de 2 ni de 3\") \n",
    "    else: \n",
    "        if n%2==0:\n",
    "            print(n,' est multiple de 2')\n",
    "        if n%3==0: \n",
    "            print(n, ' est multiple de 3')\n"
   ]
  },
  {
   "cell_type": "markdown",
   "metadata": {},
   "source": [
    "[exercice 1] A l'aide des boucles et des conditions, réalisez un programme capable d'identifier les noms de plus de 5 lettres de la liste et de les ajouter à la liste NomsLongs"
   ]
  },
  {
   "cell_type": "code",
   "execution_count": null,
   "metadata": {
    "collapsed": false
   },
   "outputs": [],
   "source": [
    "noms = [\"luc\",\"pierre\", \"jade\", \"alex\", \"alexandre\", \"marie\", \"marine\"]\n",
    "NomsLongs = []\n",
    "NomsCourts = []\n",
    "NomsMoyens = []\n",
    "\n",
    "# CODE À COMPLÉTER\n",
    "\n",
    "print(\"longs: \",NomsLongs)\n",
    "print(\"courts: \",NomsCourts)\n",
    "print(\"moyens: \",NomsMoyens)"
   ]
  },
  {
   "cell_type": "code",
   "execution_count": null,
   "metadata": {
    "collapsed": true
   },
   "outputs": [],
   "source": [
    "NomsLongs = [n for n in noms if len(n)>5]"
   ]
  },
  {
   "cell_type": "markdown",
   "metadata": {},
   "source": [
    "[exercice 2] A l'aide d'une boucle, trouvez tous les entiers multiples de 11 compris entre 0 et 1000"
   ]
  },
  {
   "cell_type": "code",
   "execution_count": null,
   "metadata": {
    "collapsed": false
   },
   "outputs": [],
   "source": [
    "D =[]\n",
    "# CODE À COMPLÉTER\n",
    "\n",
    "print(D)"
   ]
  },
  {
   "cell_type": "markdown",
   "metadata": {},
   "source": [
    "[Exercice 3] Essayons maintenant d'implémenter un algorithme simple comme un détecteur palindrome (ex: \"sms\" et \"xanax\" sont des palindromes). On peut imaginer différentes procédures mais la plus simple serait, pour une chaine de caractères quelconque de longueur n, de vérifier que \n",
    "<ul>\n",
    "<li> 1      ==     n\n",
    "<li>   2    ==    n-1\n",
    "<li> etc etc\n",
    "</ul>\n",
    "A la moindre exception, le mot n'est pas un palindrome (on utilisera alors *break* pour mettre fin à la boucle). Nous allons de plus gagner du temps en créant une <b>fonction</b> qui nous dispensera de réécrire le code pour chaque mot à tester. Une fonction se définit avec <b>def</b>, \":\" et une indentation."
   ]
  },
  {
   "cell_type": "code",
   "execution_count": null,
   "metadata": {
    "collapsed": false
   },
   "outputs": [],
   "source": [
    "s = \"xenax\"\n",
    "\n",
    "def Palindrome_detect(mot):\n",
    "    # CODE À COMPLÉTER\n",
    "\n",
    "Palindrome_detect(s)"
   ]
  },
  {
   "cell_type": "markdown",
   "metadata": {},
   "source": [
    "[exercice 4] Vous disposez d'un <b> dictionnaire </b> contenant le statut (ouvert/fermé) de chaque port d'un server. A l'aide d'une boucle For, \"testez\" chaque port pour afficher son statut"
   ]
  },
  {
   "cell_type": "code",
   "execution_count": null,
   "metadata": {
    "collapsed": false,
    "scrolled": true
   },
   "outputs": [],
   "source": [
    "ports = {21: \"open\", 22: \"open\", 443: \"open\", 6112: \"close\", 1521: \"open\", 636: \"close\", 88: \"open\"}\n",
    "\n",
    "# CODE À COMPLÉTER"
   ]
  },
  {
   "cell_type": "markdown",
   "metadata": {},
   "source": [
    "[Exercice 4 bis] même chose mais n'affichez que les ports ouverts et dans l'orde (utilisez la fonction sorted())"
   ]
  },
  {
   "cell_type": "code",
   "execution_count": null,
   "metadata": {
    "collapsed": false
   },
   "outputs": [],
   "source": [
    "ports = {20: \"open\", 21: \"open\", 443: \"open\", 6112: \"close\", 1521: \"open\", 636: \"close\", 88: \"open\"}\n",
    "\n",
    "# CODE À COMPLÉTER"
   ]
  },
  {
   "cell_type": "markdown",
   "metadata": {},
   "source": [
    "## Approfondissements: conditions, complémentaires et enchâssement.\n",
    "\n",
    "Nous ne nous sommes jusqu'à présent contenté que de cas simples qui associaient une condition unique à une boucle unique. Un langage comme python offre toutefois bien plus de souplesse en cas de besoin. Prenons un exemple."
   ]
  },
  {
   "cell_type": "code",
   "execution_count": null,
   "metadata": {
    "collapsed": false
   },
   "outputs": [],
   "source": [
    "a = 5 \n",
    "\n",
    "if a > 10: \n",
    "    print(\"a est suppérieur à 10\")\n",
    "else: \n",
    "    print(\"a est inférieur à 10\")"
   ]
  },
  {
   "cell_type": "markdown",
   "metadata": {},
   "source": [
    "Mettons que nous voulions récupérer l'ensemble des nombres < 100 à la fois multiple de 5 et de 3. Une manière de penser l'opération consiste à prendre chaque nombre les uns après les autres, vérifier si ils sont multiples de 5 et, si ils le sont, vérifier s'ils sont également multiples de 3"
   ]
  },
  {
   "cell_type": "code",
   "execution_count": null,
   "metadata": {
    "collapsed": true
   },
   "outputs": [],
   "source": [
    "T = []\n",
    "for n in range(1,100):\n",
    "    if n%5 == 0:\n",
    "        if n%3 == 0: \n",
    "            T.append(n)\n",
    "T"
   ]
  },
  {
   "cell_type": "code",
   "execution_count": null,
   "metadata": {
    "collapsed": false
   },
   "outputs": [],
   "source": [
    "T = []\n",
    "for n in range(1,100):\n",
    "    if n%5 == 0 and n%3 == 0: \n",
    "        T.append(n)\n",
    "T"
   ]
  },
  {
   "cell_type": "code",
   "execution_count": null,
   "metadata": {
    "collapsed": true
   },
   "outputs": [],
   "source": [
    "T = [n for n in range(1,100) if n%5 == 0 and n%3 == 0]\n",
    "T"
   ]
  },
  {
   "cell_type": "markdown",
   "metadata": {},
   "source": [
    "Notez l'enchassement de la condition \"if n%3 == 0\" dans la condition \"if n%5 == 0\": la première n'est vérifié que si la seconde l'est. De même que l'on peut combiner des conditions les unes dans les autres, de même peut on enchasser les boucles. \n",
    "\n",
    "Pensez à problème combinatoire comme l'axiomatisation des mathématiques Shadoks\n",
    "\n",
    "![Mathématiques Shadoks](http://jean-luc.bregeon.pagesperso-orange.fr/Page%200-20_fichiers/image001.gif)\n",
    "\n",
    "[Une vidéo générale sur la conversion de base](https://youtu.be/aeLLTOHZnIc)"
   ]
  },
  {
   "cell_type": "code",
   "execution_count": null,
   "metadata": {
    "collapsed": true
   },
   "outputs": [],
   "source": [
    "Digits = [\"Ga\", \"Bu\", \"Zo\", \"Meu\"]\n",
    "\n",
    "for n in Digits:\n",
    "    for m in Digits:\n",
    "        print(n+m)"
   ]
  },
  {
   "cell_type": "markdown",
   "metadata": {},
   "source": [
    "[Exercice 5] réalisez un convertisseur Shadok (nombres arabes vers Shadok). Vous aurez besoin de la division euclidienne (\"//\": 13//3 = 4). Il existe deux manières de penser l'opération. La première est <b>récursive</b> (appeler la fonction dans la fonction)...."
   ]
  },
  {
   "cell_type": "code",
   "execution_count": null,
   "metadata": {
    "collapsed": true
   },
   "outputs": [],
   "source": [
    "DigitDict = {0:\"Ga\", 1:\"Bu\", 2:\"Zo\", 3:\"Meu\"}\n",
    "\n",
    "def RecursShadok(n):\n",
    "    # CODE À COMPLÉTER"
   ]
  },
  {
   "cell_type": "code",
   "execution_count": null,
   "metadata": {
    "collapsed": false
   },
   "outputs": [],
   "source": [
    "RecursShadok(15) # doit vous renvoyer \"GaMeuMeu\""
   ]
  },
  {
   "cell_type": "markdown",
   "metadata": {},
   "source": [
    "..... la seconde, conceptuellement plus simple, est <b>itérative</b>"
   ]
  },
  {
   "cell_type": "code",
   "execution_count": null,
   "metadata": {
    "collapsed": true
   },
   "outputs": [],
   "source": [
    "DigitDict = {0:\"Ga\", 1:\"Bu\", 2:\"Zo\", 3:\"Meu\"}\n",
    "\n",
    "def IterShadok(n):\n",
    "    results = []\n",
    "    # CODE À COMPLÉTER\n",
    "    \n",
    "    return results # on return results\n",
    "    \n",
    "    "
   ]
  },
  {
   "cell_type": "code",
   "execution_count": null,
   "metadata": {
    "collapsed": false,
    "scrolled": true
   },
   "outputs": [],
   "source": [
    "IterShadok(573) # doit renvoyer Meu Ga"
   ]
  },
  {
   "cell_type": "code",
   "execution_count": null,
   "metadata": {
    "collapsed": false
   },
   "outputs": [],
   "source": [
    "type((1))"
   ]
  },
  {
   "cell_type": "markdown",
   "metadata": {},
   "source": [
    "### Une histoire de noms\n",
    "\n",
    "<ul>\n",
    "<li> créez une liste de noms\n",
    "<li> identifez tous les noms qui commencent par une lettre de votre choix. Ajoutez ces noms à un liste vide que vous allez creer\n",
    "<li> énumérez tous les couples possibles. une personne ne peut pas être en couple avec soi même (prop non reflexive) et couple(a,b) = couple (b,a) (prop anti-symétrique). Ajoutez ces paires de couples à un liste ()\n",
    "<li> la même chose, mais pour tous les noms compris entre 4 et 7 lettres\n",
    "</ul>\n",
    "\n",
    "### Génération aléatoire (Fuzz \\nn/)\n",
    "\n",
    "<ul>\n",
    "<li> créez une liste de symboles hexadécimaux (0 -> F)\n",
    "<li> à l'aide de **random.choice()**, constituez une liste de 128 symboles\n",
    "<li> affichez l'ensemble de ces caractères groupés par deux\n",
    "<li>\n",
    "</ul>\n"
   ]
  },
  {
   "cell_type": "code",
   "execution_count": null,
   "metadata": {
    "collapsed": false
   },
   "outputs": [],
   "source": [
    "noms=[\"Adelle\",\"Kader\",\"Marie\",\"Piotr\",\"Abdel\",\"Steve\",\"Cornelius\",\"Claire\",\"Gwendoline\"]\n",
    "\n",
    "# CODE A COMPLETER\n",
    "\n",
    "print(couples)"
   ]
  },
  {
   "cell_type": "code",
   "execution_count": null,
   "metadata": {
    "collapsed": false
   },
   "outputs": [],
   "source": [
    "import random\n",
    "L= [\"0\",\"1\",\"2\",\"3\",\"4\",\"5\",\"6\",\"7\",\"8\",\"9\",\"a\",\"b\",\"c\",\"d\",\"e\",\"f\"]\n",
    "fuz=[]\n",
    "\n",
    "for i in range(128):\n",
    "    #CODE A COMPLETER\n",
    "\n",
    "for i in range(len(fuz)//8):\n",
    "    #CODE A COMPLETER\n",
    "\n",
    "\n"
   ]
  },
  {
   "cell_type": "markdown",
   "metadata": {},
   "source": [
    "## Librairies: utilisation et création\n",
    "Outre une syntaxe simple, le principal atout de python réside dans son choix de librairies spécialisées dans un grand nombre de domaines. Pour importer une librairie, il suffit de:"
   ]
  },
  {
   "cell_type": "code",
   "execution_count": null,
   "metadata": {
    "collapsed": true
   },
   "outputs": [],
   "source": [
    "import pandas                    #importe la librairie pandas\n",
    "from sklearn import linear_model # importe le module \"modèle linéaire\" de la librairie Sklearn\n",
    "import numpy as np               # importe la librairie numpy qui sera désigné par \"np\" (pratique pour éviter les scripts trop verbeux)\n",
    "\n",
    "data = np.random.rand(3,2)       #génère une matrice de données aléatoire de 3 lignes et 2 colonnes\n",
    "print(data)"
   ]
  },
  {
   "cell_type": "markdown",
   "metadata": {},
   "source": [
    "Il existe plusieurs manières d'installer des librairies python. La plus simple consiste à exécuter\n",
    "\n",
    "<code>pip3 install nom-de-la-librairie</code>\n",
    "\n",
    "dans votre terminal\n",
    "\n",
    "Gardez à l'esprit qu'il n'existe pas de différence ontologique entre un <b>script</b> et un <b>module</b>. Une <b>librairie</b> est un ensemble de <b>module</b>. La librairie sklearn est en fait un dossier qui contient un fichier .py linear_model vers lequel pointe le PATH de votre interpréteur Python (à défaut, dans le dossier courant). En conséquence, vous pouvez aisément vous créer vos propres modules et librairies.\n",
    "\n",
    "Nous allons créer une librairie appelée <b>libPerso</b> avec un module <b>nlp</b> doté d'une fonction capable de compter les mots d'une chaîne de caractères. Voici ce que doit contenir votre nlp.py. Il vous suffira ensuite d'ajouter ce fichier dans un dossier appelé libPerso dans le dossier courant. Petite subtilité supplémentaire, le dossier <b>libPerso</b> devra contenir un fichier vide appelé <b>__init__.py</b> pour que l'interpréteur sache qu'il s'agit d'une librairie."
   ]
  },
  {
   "cell_type": "code",
   "execution_count": null,
   "metadata": {
    "collapsed": true
   },
   "outputs": [],
   "source": [
    "import re                # analyse d'expression régulière\n",
    "def WordCount(string):\n",
    "    count = len(re.findall(r'\\w+', string))\n",
    "    return(count)"
   ]
  },
  {
   "cell_type": "markdown",
   "metadata": {},
   "source": [
    "Il vous suffira ensuite d'ajouter ce fichier dans un dossier appelé libPerso dans le dossier courant. Petite subtilité supplémentaire, le dossier <b>libPerso</b> devra contenir un fichier vide appelé $__init__.py$ pour que l'interpréteur sache qu'il s'agit d'une librairie.\n",
    "\n",
    "Vérifions que cela marche"
   ]
  },
  {
   "cell_type": "code",
   "execution_count": null,
   "metadata": {
    "collapsed": true
   },
   "outputs": [],
   "source": [
    "from libPerso import nlp"
   ]
  },
  {
   "cell_type": "markdown",
   "metadata": {},
   "source": [
    "## Allons plus loin dans les Structures et algorithmes\n",
    "\n",
    "Jusque là, nous sommes restés cantonés à des cas concrets. Mais la manière de concevoir un algorithme peut être décrite i) abstraitement ii) relativement à la structuration de données. Commençons par le commencement: \n",
    "\n",
    "### Recherche sur liste\n",
    "\n",
    "On parle de listes pour toute structure de données organisée de manière unidimensionnel (e.g. ordre des items, lignes d'un fichier de log, etc etc).\n",
    "\n",
    "Une première manière de rechercher un élément consiste à parcourir l'intégralité de la liste à sa recherche. On parle de **recherche linéaire**. Concevez un semblable algorithme pour trouver le seul nom de 4 lettres de la liste."
   ]
  },
  {
   "cell_type": "code",
   "execution_count": null,
   "metadata": {
    "collapsed": false
   },
   "outputs": [],
   "source": [
    "noms = [\"pierre\",\"karl\",\"isaiah\",\"marie\",\"claire\", \"carole\",\"luc\"]\n",
    "\n",
    "match = []  # liste dans laquelle ajouter\n",
    "\n",
    "for n in noms:  # itération\n",
    "    #CODE A COMPLETER\n",
    "    "
   ]
  },
  {
   "cell_type": "markdown",
   "metadata": {},
   "source": [
    "Ce type d'algorithme oblige à parcourir l'intégralité de la liste. Si 100 entrées, complexité de 100, si n entrées, complexité de n. On parle alors d'un algorithme de complexité n.\n",
    "\n",
    "Selon les situations, il peut être plus rapide de procéder d'une autre manière. Par exemple, dans le cas ou les données seraient *ordonnées*, il est possible d'utiliser un algorithme de **recherche binaire**. O(log n)\n",
    "\n",
    "![binary research](https://upload.wikimedia.org/wikipedia/commons/thumb/8/83/Binary_Search_Depiction.svg/1200px-Binary_Search_Depiction.svg.png)\n",
    "\n",
    "Modifiez l'algorithme précédent afin de trouver le nom de 4 lettres"
   ]
  },
  {
   "cell_type": "code",
   "execution_count": null,
   "metadata": {
    "collapsed": false
   },
   "outputs": [],
   "source": [
    "noms = [\"luc\",\"karl\",\"marie\",\"pierre\",\"jeanne\",\"isaiah\",\"claire\", \"carole\"]\n",
    "match =[]\n",
    "\n",
    "while True:\n",
    "    #CODE A COMPLETER\n",
    "\n",
    "print(match)"
   ]
  },
  {
   "cell_type": "code",
   "execution_count": null,
   "metadata": {
    "collapsed": false
   },
   "outputs": [],
   "source": [
    "# même chose mais pour trouver un nombre compris entre 0 et 100 (on cherche 63)\n",
    "\n",
    "nombres = list(range(101))\n",
    "match = []\n",
    "\n",
    "while True:\n",
    "    #CODE A COMPLETER\n",
    "\n",
    "print(match)"
   ]
  },
  {
   "cell_type": "markdown",
   "metadata": {},
   "source": [
    "### Algorithme de tri (sorting)\n",
    "\n",
    "Une autre importante famille de taches consiste à trier, classer des données dans une structure. Comment feriez-vous pour ordonner les noms (ou nombres) de la liste? Plein de manière. L'une d'elle est un [tri par insertion](https://fr.wikipedia.org/wiki/Tri_par_insertion). On commence par le plus à gauche, et on le considère comme rangé. Puis on prend celui d'après. S'il est plus grand que le nombre déjà rangé, on le range après, sinon avant. Pour les suivants, même logique: on regarde la dernière valeur rangée. Si plus petit, on regarde la valeur d'avant, si plus petit, celle d'avant, si plus petit, celle d'avant, etc etc \n",
    "\n",
    "![tri par insertion](http://www.russika.ru/userimages/2014_01_24_21_28_770818091.gif)\n"
   ]
  },
  {
   "cell_type": "code",
   "execution_count": null,
   "metadata": {
    "collapsed": true
   },
   "outputs": [],
   "source": [
    "import random\n",
    "numbers = [random.randint(1,50) for i in range(20)] # une liste de 20 nombre aléatoires"
   ]
  },
  {
   "cell_type": "code",
   "execution_count": null,
   "metadata": {
    "collapsed": true
   },
   "outputs": [],
   "source": [
    "def insertionSort(alist):   \n",
    "    for index in range(1,len(alist)): # NB on commence par 1 et non par 0 (car nous allons ranger tous les autres relativement au premier)\n",
    "          \n",
    "        #CODE A COMPLETER # pour passer chaque nb de la liste en revue\n",
    "        position = index      # on fixe sa position à son index dans la liste\n",
    "        \n",
    "        while position >0 and alist[position-1]>nb_actuel: # tant que l'élément d'avant est plus grand que la valeur actuelle\n",
    "            #CODE A COMPLETER     # on met sur cette position la valeur de la position juste avant\n",
    "            #CODE A COMPLETER               # et on se décalle d'un rang vers la gauche\n",
    "        \n",
    "        alist[position]=nb_actuel  # quand enfin nous n'avons pas d'élément plus grand à gauche, on met sur cet emplacement la valeur actuelle\n",
    "\n",
    "            \n",
    "            # je range l'élément à cet endroit là\n",
    "        # BIS REPETITA AD LIB"
   ]
  },
  {
   "cell_type": "code",
   "execution_count": null,
   "metadata": {
    "collapsed": false
   },
   "outputs": [],
   "source": [
    "print(numbers)\n",
    "insertionSort(numbers)\n"
   ]
  },
  {
   "cell_type": "code",
   "execution_count": null,
   "metadata": {
    "collapsed": false
   },
   "outputs": [],
   "source": [
    "print(numbers)"
   ]
  },
  {
   "cell_type": "markdown",
   "metadata": {},
   "source": [
    "Une autre forme d'algorithme de tri couramment utilisé est le [tri à bulles](https://fr.wikipedia.org/wiki/Tri_%C3%A0_bulles)\n",
    "\n",
    "![tri à bulle](http://www.algolist.net/img/sorts/bubble-sort-1.png)"
   ]
  },
  {
   "cell_type": "code",
   "execution_count": null,
   "metadata": {
    "collapsed": false
   },
   "outputs": [],
   "source": [
    "numbers = [random.randint(1,50) for i in range(20)] # une liste de 20 nombre aléatoires\n",
    "print(numbers)"
   ]
  },
  {
   "cell_type": "code",
   "execution_count": null,
   "metadata": {
    "collapsed": true
   },
   "outputs": [],
   "source": [
    "noms = [\"pierre\",\"karl\",\"isaiah\",\"marie\",\"claire\", \"carole\",\"luc\"]"
   ]
  },
  {
   "cell_type": "code",
   "execution_count": null,
   "metadata": {
    "collapsed": false
   },
   "outputs": [],
   "source": [
    "def bubblesort(alist,mode=\"alpha\"):\n",
    "    \n",
    "    while True:\n",
    "        #CODE A COMPLETER\n",
    "        "
   ]
  },
  {
   "cell_type": "code",
   "execution_count": null,
   "metadata": {
    "collapsed": false
   },
   "outputs": [],
   "source": [
    "noms = bubblesort(noms, \"siz\")\n",
    "print(noms)"
   ]
  },
  {
   "cell_type": "markdown",
   "metadata": {},
   "source": [
    "Un autre standard d'algorithme de tri n'est autre que le [tri-fusion](https://fr.wikipedia.org/wiki/Tri_fusion). Il consiste à spliter la liste en sublists, elles même en sublist etc puis à stacker ces éléments dans l'ordre en remontant les degrés de complexité. \n",
    "\n",
    "![merge sort](https://upload.wikimedia.org/wikipedia/commons/6/60/Mergesort_algorithm_diagram.png)\n",
    "\n",
    "![merge_sort2](https://upload.wikimedia.org/wikipedia/commons/c/c5/Merge_sort_animation2.gif)\n",
    "\n",
    "NB: cet algorithme se prête très bien à une approche récurssive (mais vous pouvez faire autrement)\n"
   ]
  },
  {
   "cell_type": "code",
   "execution_count": null,
   "metadata": {
    "collapsed": true
   },
   "outputs": [],
   "source": []
  }
 ],
 "metadata": {
  "kernelspec": {
   "display_name": "Python 3",
   "language": "python",
   "name": "python3"
  },
  "language_info": {
   "codemirror_mode": {
    "name": "ipython",
    "version": 3
   },
   "file_extension": ".py",
   "mimetype": "text/x-python",
   "name": "python",
   "nbconvert_exporter": "python",
   "pygments_lexer": "ipython3",
   "version": "3.5.3"
  }
 },
 "nbformat": 4,
 "nbformat_minor": 2
}
