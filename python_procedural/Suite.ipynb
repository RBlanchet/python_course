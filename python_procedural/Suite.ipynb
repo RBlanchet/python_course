{
 "cells": [
  {
   "cell_type": "markdown",
   "metadata": {},
   "source": [
    "# Suite sur les boucles et application à des exemples concrets: Find/Replace sur fichier de config et traitement de strings\n",
    "\n",
    "Nous allons revoir les méthodes du cours précédent en les appliquant sur cette fois sur des chaines de caratères. Commençons par en prendre une"
   ]
  },
  {
   "cell_type": "code",
   "execution_count": null,
   "metadata": {
    "collapsed": false
   },
   "outputs": [],
   "source": [
    "chaine = \"Mon père est marinier sur cette péniche, ma mère dit la paix niche dans ce mari niais\"\n",
    "t = chaine.split(\" \")\n",
    "\n",
    "t\n",
    "\n",
    "\"\\n\".join(t)"
   ]
  },
  {
   "cell_type": "markdown",
   "metadata": {},
   "source": [
    "[exercice] Appliqué aux str, len renvoit le nombre de caratère de la chaine. Essayons de créer un word-counter avec la méthode <a href = \"https://docs.python.org/2/library/string.html\">split</a>"
   ]
  },
  {
   "cell_type": "code",
   "execution_count": null,
   "metadata": {
    "collapsed": false
   },
   "outputs": [],
   "source": [
    "def wordCounter(s):\n",
    "    l = s.split(' ')\n",
    "    return len(l)\n",
    "    \n",
    "wordCounter(chaine)   "
   ]
  },
  {
   "cell_type": "code",
   "execution_count": null,
   "metadata": {
    "collapsed": false,
    "scrolled": true
   },
   "outputs": [],
   "source": [
    "text = \"Python est un langage de programmation objet interprété, multi-paradigme et multiplateformes. Il favorise la programmation impérative structurée, fonctionnelle et orientée objet. Il est doté d'un typage dynamique fort, d'une gestion automatique de la mémoire par ramasse-miettes et d'un système de gestion d'exceptions ; il est ainsi similaire à Perl, Ruby, Scheme, Smalltalk et Tcl.Le langage Python est placé sous une licence libre proche de la licence BSD4 et fonctionne sur la plupart des plates-formes informatiques, des smartphones aux ordinateurs centraux5, de Windows à Unix avec notamment GNU/Linux en passant par macOS, ou encore Android, iOS, et aussi avec Java ou encore .NET. Il est conçu pour optimiser la productivité des programmeurs en offrant des outils de haut niveau et une syntaxe simple à utiliser. Il est également apprécié par certains pédagogues qui y trouvent un langage où la syntaxe, clairement séparée des mécanismes de bas niveau, permet une initiation aisée aux concepts de base de la programmation6. \"\n",
    "\n",
    "def substitute(s):\n",
    "    s = s.split(\"programmation\")\n",
    "    s = \"progra\".join(s)\n",
    "    return s\n",
    "    \n",
    "substitute(text)"
   ]
  },
  {
   "cell_type": "code",
   "execution_count": null,
   "metadata": {
    "collapsed": false
   },
   "outputs": [],
   "source": [
    "# https://adresse.data.gouv.fr/donnees-nationales\n",
    "f = open('/home/david/Téléchargements/full.csv',\"r\",encoding=\"utf-8\")\n",
    "f = f.read() # fichier ---> str \n",
    "\n",
    "type(f)"
   ]
  },
  {
   "cell_type": "code",
   "execution_count": null,
   "metadata": {
    "collapsed": true
   },
   "outputs": [],
   "source": [
    "f = f.split('\\n') # str ----> list d'adresses (une par ligne)"
   ]
  },
  {
   "cell_type": "code",
   "execution_count": null,
   "metadata": {
    "collapsed": true
   },
   "outputs": [],
   "source": [
    "f = f[:-1] # on vire la dernière valeur de la liste (qui était une ligne vide)"
   ]
  },
  {
   "cell_type": "code",
   "execution_count": null,
   "metadata": {
    "collapsed": true
   },
   "outputs": [],
   "source": [
    "import random\n",
    "f_test = random.sample(f,100000) # un échantillon de 200 lignes de nos données"
   ]
  },
  {
   "cell_type": "markdown",
   "metadata": {},
   "source": [
    "[Exercice] Implémentez:\n",
    "<ul>\n",
    "<li> une fonction à 2 arguments (code postal, liste) capable de renvoyer les adresses qui correspondent à ce code postal dans la liste d'adresses donnée en argument (+)\n",
    "<li> une fonction à 2 arguments (ville, liste) capable de renvoyer les adresses qui correspondent au nom de la ville passé comme argument (+)\n",
    "<li> une fonction à 2 arguments (nb_ville, liste) qui renvoit les n villes les plus au nord du dataset (+++)\n",
    "<li> une fonction à 2 arguments (code postal, liste) capable de renvoyer une liste des villes correspondant à ce code postal (une occurrence par ville) (++)\n",
    "<li> une fonction à 2 arguments (code postal, liste) capable de revoyer une liste des rues (une occurrence par rue) (++)    \n",
    "<li> une fonction a 2 arguments (ville, liste) capable de renvoyer la distance maximale entre deux adresses de cette ville (++++)\n",
    "<li> une fonction à 5 arguments (lat_n, lat_s, long_e,long_w,liste) capable de renvoyer toutes les addresses comprises dans ce cadre (+++)\n",
    "<i> une fonction à 2 arguments (ville, liste) capable de renvoyer la densité urbaine de la ville (ratio: nb_adresse/cadran) \n",
    "</ul>\n",
    "\n"
   ]
  },
  {
   "cell_type": "code",
   "execution_count": null,
   "metadata": {
    "collapsed": true
   },
   "outputs": [],
   "source": [
    "import math \n",
    "def getPostal(code,liste):\n",
    "    results=[]\n",
    "    #CODE A COMPLETER\n",
    "    return results\n",
    "\n",
    "def getTown(ville,liste):\n",
    "    results=[]\n",
    "    #CODE A COMPLETER\n",
    "    return results\n",
    "\n",
    "def getNorth(liste,nb_ville):\n",
    "    results = liste[:nb_ville]\n",
    "    #CODE A COMPLETER\n",
    "    return results\n",
    "\n",
    "def get_by_ZIP(code,liste,mode=\"ville\"):\n",
    "    results=[]\n",
    "    #CODE A COMPLETER\n",
    "    return list(set(results))\n",
    "\n",
    "def get_distance(p1,p2):\n",
    "    #CODE A COMPLETER\n",
    "    \n",
    "    return ecart_long**2 + ecart_lat**2\n",
    "    \n",
    "\n",
    "def get_extremum(ville, liste):\n",
    "    #CODE A COMPLETER\n",
    "    return best_candidate\n",
    "\n",
    "\n",
    "def cadran(min_lat, max_lat,min_long,max_long,liste):\n",
    "    results = []\n",
    "    \n",
    "    #CODE A COMPLETER\n",
    "    \n",
    "    return results\n",
    "\n",
    "def get_density(ville,liste):\n",
    "    #CODE A COMPLETER\n",
    "\n",
    "def get_nb_town(liste): \n",
    "    return list(set([x.split(',')[4] for x in liste]))\n"
   ]
  },
  {
   "cell_type": "code",
   "execution_count": null,
   "metadata": {
    "collapsed": false
   },
   "outputs": [],
   "source": [
    "len(villes)"
   ]
  },
  {
   "cell_type": "markdown",
   "metadata": {},
   "source": [
    "pas mal, essayons maintenant de voir comment récupérer tous les mots commençant par une certaine chaine de caractère avec la fonction findall."
   ]
  },
  {
   "cell_type": "code",
   "execution_count": null,
   "metadata": {
    "collapsed": true
   },
   "outputs": [],
   "source": [
    "import re"
   ]
  },
  {
   "cell_type": "code",
   "execution_count": null,
   "metadata": {
    "collapsed": false
   },
   "outputs": [],
   "source": [
    "re.findall(r'ma\\w+',chaine)"
   ]
  },
  {
   "cell_type": "markdown",
   "metadata": {},
   "source": [
    "cherchons maintenant les "
   ]
  },
  {
   "cell_type": "code",
   "execution_count": null,
   "metadata": {
    "collapsed": false
   },
   "outputs": [],
   "source": [
    "re.findall(r'(?:cette)\\s+\\w+',chaine)"
   ]
  },
  {
   "cell_type": "markdown",
   "metadata": {},
   "source": [
    "## Text minning\n",
    "\n",
    "Mettons maintenant que nous voulions récupérer certaines valeurs d'un fichier CSS (fondation). "
   ]
  },
  {
   "cell_type": "code",
   "execution_count": null,
   "metadata": {
    "collapsed": true
   },
   "outputs": [],
   "source": [
    "code = \".subheader {margin-top: 0.2rem;\\n margin-bottom: 0.5rem;\\n font-weight: normal;\\n line-height: 1.4;\\n color: 8a8a8a; }\\n .lead {\\n font-size: 125%;\\n line-height: 1.6; }\\n\""
   ]
  },
  {
   "cell_type": "code",
   "execution_count": null,
   "metadata": {
    "collapsed": false
   },
   "outputs": [],
   "source": [
    "re.findall(r'\\:.*?\\;',code)\n"
   ]
  },
  {
   "cell_type": "code",
   "execution_count": null,
   "metadata": {
    "collapsed": false
   },
   "outputs": [],
   "source": [
    "p2 = re.compile(r'.subheader\\W+')\n",
    "p2.split(code)"
   ]
  },
  {
   "cell_type": "markdown",
   "metadata": {},
   "source": [
    "[Exercice] Codez les fonctions suivantes. \n",
    "\n",
    "- l'ensemble des font-size associées à leurs diviseurs (+)\n",
    "- Une fonction capable de récupérer les codes couleurs hex associés à leur *div* (++)\n",
    "- l'ensemble des classes et leurs éventuels enchassements les unes dans les autres (+++) Importez le fichier foundation.css et trouvez l'ensemble des couleurs utilisées dans les \"button\" dans par ce framework"
   ]
  },
  {
   "cell_type": "code",
   "execution_count": null,
   "metadata": {
    "collapsed": false
   },
   "outputs": [],
   "source": [
    "code = open('foundation.css', 'r')\n",
    "code = code.read()\n",
    "code"
   ]
  }
 ],
 "metadata": {
  "kernelspec": {
   "display_name": "Python 3",
   "language": "python",
   "name": "python3"
  },
  "language_info": {
   "codemirror_mode": {
    "name": "ipython",
    "version": 3
   },
   "file_extension": ".py",
   "mimetype": "text/x-python",
   "name": "python",
   "nbconvert_exporter": "python",
   "pygments_lexer": "ipython3",
   "version": "3.5.3"
  }
 },
 "nbformat": 4,
 "nbformat_minor": 2
}
